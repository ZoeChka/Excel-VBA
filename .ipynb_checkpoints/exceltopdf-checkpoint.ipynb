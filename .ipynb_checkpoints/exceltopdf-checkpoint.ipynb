{
 "cells": [
  {
   "cell_type": "code",
   "execution_count": 1,
   "metadata": {},
   "outputs": [
    {
     "name": "stderr",
     "output_type": "stream",
     "text": [
      "/home/nbuser/anaconda3_501/lib/python3.6/importlib/_bootstrap.py:219: RuntimeWarning: numpy.dtype size changed, may indicate binary incompatibility. Expected 96, got 88\n",
      "  return f(*args, **kwds)\n",
      "/home/nbuser/anaconda3_501/lib/python3.6/importlib/_bootstrap.py:219: RuntimeWarning: numpy.dtype size changed, may indicate binary incompatibility. Expected 96, got 88\n",
      "  return f(*args, **kwds)\n"
     ]
    }
   ],
   "source": [
    "import pandas as pd"
   ]
  },
  {
   "cell_type": "code",
   "execution_count": 2,
   "metadata": {},
   "outputs": [
    {
     "data": {
      "text/plain": [
       "['Sheet1']"
      ]
     },
     "execution_count": 2,
     "metadata": {},
     "output_type": "execute_result"
    }
   ],
   "source": [
    "xl = pd.ExcelFile(\"data/exceldata.xlsx\")\n",
    "sheetname = xl.sheet_names\n",
    "sheetname"
   ]
  },
  {
   "cell_type": "code",
   "execution_count": 3,
   "metadata": {},
   "outputs": [
    {
     "data": {
      "text/plain": [
       "OrderedDict([('Sheet1',      Transactions  Count  Total\n",
       "              0          checks     45   1345\n",
       "              1    ACH deposits     78   2000\n",
       "              2  wire transfers     23   1900)])"
      ]
     },
     "execution_count": 3,
     "metadata": {},
     "output_type": "execute_result"
    }
   ],
   "source": [
    "df = xl.parse(sheetname)\n",
    "df"
   ]
  },
  {
   "cell_type": "code",
   "execution_count": 4,
   "metadata": {},
   "outputs": [
    {
     "data": {
      "text/html": [
       "<div>\n",
       "<style>\n",
       "    .dataframe thead tr:only-child th {\n",
       "        text-align: right;\n",
       "    }\n",
       "\n",
       "    .dataframe thead th {\n",
       "        text-align: left;\n",
       "    }\n",
       "\n",
       "    .dataframe tbody tr th {\n",
       "        vertical-align: top;\n",
       "    }\n",
       "</style>\n",
       "<table border=\"1\" class=\"dataframe\">\n",
       "  <thead>\n",
       "    <tr style=\"text-align: right;\">\n",
       "      <th></th>\n",
       "      <th>Transactions</th>\n",
       "      <th>Count</th>\n",
       "      <th>Total</th>\n",
       "    </tr>\n",
       "  </thead>\n",
       "  <tbody>\n",
       "    <tr>\n",
       "      <th>0</th>\n",
       "      <td>checks</td>\n",
       "      <td>45</td>\n",
       "      <td>1345</td>\n",
       "    </tr>\n",
       "    <tr>\n",
       "      <th>1</th>\n",
       "      <td>ACH deposits</td>\n",
       "      <td>78</td>\n",
       "      <td>2000</td>\n",
       "    </tr>\n",
       "    <tr>\n",
       "      <th>2</th>\n",
       "      <td>wire transfers</td>\n",
       "      <td>23</td>\n",
       "      <td>1900</td>\n",
       "    </tr>\n",
       "  </tbody>\n",
       "</table>\n",
       "</div>"
      ],
      "text/plain": [
       "     Transactions  Count  Total\n",
       "0          checks     45   1345\n",
       "1    ACH deposits     78   2000\n",
       "2  wire transfers     23   1900"
      ]
     },
     "execution_count": 4,
     "metadata": {},
     "output_type": "execute_result"
    }
   ],
   "source": [
    "df =pd.read_excel(open('data/exceldata.xlsx','rb'), sheetname='Sheet1')\n",
    "df"
   ]
  },
  {
   "cell_type": "code",
   "execution_count": 5,
   "metadata": {},
   "outputs": [],
   "source": [
    "df['comments'] = df['Count'].astype(str)+ ' '+ df['Transactions'] + ' Totaling to $' + df['Total'].astype(str)"
   ]
  },
  {
   "cell_type": "code",
   "execution_count": 6,
   "metadata": {},
   "outputs": [
    {
     "data": {
      "text/html": [
       "<div>\n",
       "<style>\n",
       "    .dataframe thead tr:only-child th {\n",
       "        text-align: right;\n",
       "    }\n",
       "\n",
       "    .dataframe thead th {\n",
       "        text-align: left;\n",
       "    }\n",
       "\n",
       "    .dataframe tbody tr th {\n",
       "        vertical-align: top;\n",
       "    }\n",
       "</style>\n",
       "<table border=\"1\" class=\"dataframe\">\n",
       "  <thead>\n",
       "    <tr style=\"text-align: right;\">\n",
       "      <th></th>\n",
       "      <th>Transactions</th>\n",
       "      <th>Count</th>\n",
       "      <th>Total</th>\n",
       "      <th>comments</th>\n",
       "    </tr>\n",
       "  </thead>\n",
       "  <tbody>\n",
       "    <tr>\n",
       "      <th>0</th>\n",
       "      <td>checks</td>\n",
       "      <td>45</td>\n",
       "      <td>1345</td>\n",
       "      <td>45 checks Totaling to $1345</td>\n",
       "    </tr>\n",
       "    <tr>\n",
       "      <th>1</th>\n",
       "      <td>ACH deposits</td>\n",
       "      <td>78</td>\n",
       "      <td>2000</td>\n",
       "      <td>78 ACH deposits Totaling to $2000</td>\n",
       "    </tr>\n",
       "    <tr>\n",
       "      <th>2</th>\n",
       "      <td>wire transfers</td>\n",
       "      <td>23</td>\n",
       "      <td>1900</td>\n",
       "      <td>23 wire transfers Totaling to $1900</td>\n",
       "    </tr>\n",
       "  </tbody>\n",
       "</table>\n",
       "</div>"
      ],
      "text/plain": [
       "     Transactions  Count  Total                             comments\n",
       "0          checks     45   1345          45 checks Totaling to $1345\n",
       "1    ACH deposits     78   2000    78 ACH deposits Totaling to $2000\n",
       "2  wire transfers     23   1900  23 wire transfers Totaling to $1900"
      ]
     },
     "execution_count": 6,
     "metadata": {},
     "output_type": "execute_result"
    }
   ],
   "source": [
    "df"
   ]
  },
  {
   "cell_type": "code",
   "execution_count": 7,
   "metadata": {},
   "outputs": [
    {
     "ename": "ModuleNotFoundError",
     "evalue": "No module named 'weasyprint'",
     "output_type": "error",
     "traceback": [
      "\u001b[0;31m---------------------------------------------------------------------------\u001b[0m",
      "\u001b[0;31mModuleNotFoundError\u001b[0m                       Traceback (most recent call last)",
      "\u001b[0;32m<ipython-input-7-6d26e7d2b2e1>\u001b[0m in \u001b[0;36m<module>\u001b[0;34m()\u001b[0m\n\u001b[0;32m----> 1\u001b[0;31m \u001b[0;32mfrom\u001b[0m \u001b[0mweasyprint\u001b[0m \u001b[0;32mimport\u001b[0m \u001b[0mHTML\u001b[0m\u001b[0;34m\u001b[0m\u001b[0m\n\u001b[0m\u001b[1;32m      2\u001b[0m \u001b[0;31m#HTML(string=html_out).write_pdf(\"report.pdf\")\u001b[0m\u001b[0;34m\u001b[0m\u001b[0;34m\u001b[0m\u001b[0m\n",
      "\u001b[0;31mModuleNotFoundError\u001b[0m: No module named 'weasyprint'"
     ]
    }
   ],
   "source": [
    "from weasyprint import HTML\n",
    "#HTML(string=html_out).write_pdf(\"report.pdf\")"
   ]
  },
  {
   "cell_type": "code",
   "execution_count": 8,
   "metadata": {},
   "outputs": [
    {
     "name": "stdout",
     "output_type": "stream",
     "text": [
      "Collecting weasyprint\n",
      "\u001b[?25l  Downloading https://files.pythonhosted.org/packages/a5/3c/a7021bea33ef7515901d77b11cb0d356171068055591e9d813962a0092d8/WeasyPrint-0.42.3-py3-none-any.whl (296kB)\n",
      "\u001b[K    100% |████████████████████████████████| 296kB 8.4MB/s eta 0:00:01\n",
      "\u001b[?25hRequirement already satisfied: cffi>=0.6 in /home/nbuser/anaconda3_501/lib/python3.6/site-packages (from weasyprint) (1.10.0)\n",
      "Collecting pdfrw>=0.4 (from weasyprint)\n",
      "\u001b[?25l  Downloading https://files.pythonhosted.org/packages/c0/84/af442c4458756bb0c0d2424102d1200616f3ff9b82c48aaa130e08549bf6/pdfrw-0.4-py2.py3-none-any.whl (69kB)\n",
      "\u001b[K    100% |████████████████████████████████| 71kB 14.5MB/s ta 0:00:01\n",
      "\u001b[?25hCollecting tinycss2>=0.5 (from weasyprint)\n",
      "\u001b[?25l  Downloading https://files.pythonhosted.org/packages/88/95/0ec73db7fc638ec000e662936ffe1a4e1eaa22f2861c8de18b1597c42584/tinycss2-0.6.1-py2.py3-none-any.whl (61kB)\n",
      "\u001b[K    100% |████████████████████████████████| 71kB 22.6MB/s ta 0:00:01\n",
      "\u001b[?25hCollecting cairocffi>=0.5 (from weasyprint)\n",
      "\u001b[?25l  Downloading https://files.pythonhosted.org/packages/62/be/ad4d422b6f38d99b09ad6d046ab725e8ccac5fefd9ca256ca35a80dbf3c6/cairocffi-0.9.0.tar.gz (84kB)\n",
      "\u001b[K    100% |████████████████████████████████| 92kB 25.3MB/s ta 0:00:01\n",
      "\u001b[?25hRequirement already satisfied: html5lib>=0.999999999 in /home/nbuser/anaconda3_501/lib/python3.6/site-packages (from weasyprint) (0.999999999)\n",
      "Collecting Pyphen>=0.8 (from weasyprint)\n",
      "\u001b[?25l  Downloading https://files.pythonhosted.org/packages/dd/c4/74859f895e2361d92cfbb6208ea7afd06c2f1f05c491da71cbd7ce3887be/Pyphen-0.9.4-py2.py3-none-any.whl (1.9MB)\n",
      "\u001b[K    100% |████████████████████████████████| 2.0MB 9.4MB/s eta 0:00:01    70% |██████████████████████▊         | 1.4MB 19.0MB/s eta 0:00:01\n",
      "\u001b[?25hCollecting cssselect2>=0.1 (from weasyprint)\n",
      "  Downloading https://files.pythonhosted.org/packages/12/e2/91fcd4cd32545beec6e11628d64d3e20f11b5a95dd1ccf3216fd69f176b7/cssselect2-0.2.1-py2.py3-none-any.whl\n",
      "Collecting CairoSVG>=1.0.20; python_version >= \"3.0\" (from weasyprint)\n",
      "\u001b[?25l  Downloading https://files.pythonhosted.org/packages/db/8c/eb114f08b0db43ec05c946e33d1a180819f34c185f05223407ac9a6fce90/CairoSVG-2.1.3-py3-none-any.whl (101kB)\n",
      "\u001b[K    100% |████████████████████████████████| 102kB 15.8MB/s a 0:00:01\n",
      "\u001b[?25hRequirement already satisfied: pycparser in /home/nbuser/anaconda3_501/lib/python3.6/site-packages (from cffi>=0.6->weasyprint) (2.18)\n",
      "Requirement already satisfied: webencodings>=0.4 in /home/nbuser/anaconda3_501/lib/python3.6/site-packages (from tinycss2>=0.5->weasyprint) (0.5.1)\n",
      "Requirement already satisfied: six in /home/nbuser/anaconda3_501/lib/python3.6/site-packages (from html5lib>=0.999999999->weasyprint) (1.11.0)\n",
      "Requirement already satisfied: setuptools>=18.5 in /home/nbuser/anaconda3_501/lib/python3.6/site-packages (from html5lib>=0.999999999->weasyprint) (40.0.0)\n",
      "Collecting defusedxml (from CairoSVG>=1.0.20; python_version >= \"3.0\"->weasyprint)\n",
      "  Downloading https://files.pythonhosted.org/packages/87/1c/17f3e3935a913dfe2a5ca85fa5ccbef366bfd82eb318b1f75dadbf0affca/defusedxml-0.5.0-py2.py3-none-any.whl\n",
      "Requirement already satisfied: pillow in /home/nbuser/anaconda3_501/lib/python3.6/site-packages (from CairoSVG>=1.0.20; python_version >= \"3.0\"->weasyprint) (4.3.0)\n",
      "Requirement already satisfied: olefile in /home/nbuser/anaconda3_501/lib/python3.6/site-packages (from pillow->CairoSVG>=1.0.20; python_version >= \"3.0\"->weasyprint) (0.44)\n",
      "Building wheels for collected packages: cairocffi\n",
      "  Running setup.py bdist_wheel for cairocffi ... \u001b[?25ldone\n",
      "\u001b[?25h  Stored in directory: /home/nbuser/.cache/pip/wheels/3a/2e/92/89e9dcce600a1a78bebe571fdd096669cba354b29c5e1140b9\n",
      "Successfully built cairocffi\n",
      "Installing collected packages: pdfrw, tinycss2, cairocffi, Pyphen, cssselect2, defusedxml, CairoSVG, weasyprint\n",
      "Successfully installed CairoSVG-2.1.3 Pyphen-0.9.4 cairocffi-0.9.0 cssselect2-0.2.1 defusedxml-0.5.0 pdfrw-0.4 tinycss2-0.6.1 weasyprint-0.42.3\n"
     ]
    }
   ],
   "source": [
    "!pip install weasyprint"
   ]
  },
  {
   "cell_type": "code",
   "execution_count": 9,
   "metadata": {},
   "outputs": [
    {
     "ename": "AttributeError",
     "evalue": "'DataFrame' object has no attribute 'to_render'",
     "output_type": "error",
     "traceback": [
      "\u001b[0;31m---------------------------------------------------------------------------\u001b[0m",
      "\u001b[0;31mAttributeError\u001b[0m                            Traceback (most recent call last)",
      "\u001b[0;32m<ipython-input-9-6727d1cd4c2a>\u001b[0m in \u001b[0;36m<module>\u001b[0;34m()\u001b[0m\n\u001b[0;32m----> 1\u001b[0;31m \u001b[0mdf\u001b[0m\u001b[0;34m.\u001b[0m\u001b[0mto_render\u001b[0m\u001b[0;34m(\u001b[0m\u001b[0;34m\"file.pdf\"\u001b[0m\u001b[0;34m,\u001b[0m \u001b[0mformat\u001b[0m \u001b[0;34m=\u001b[0m \u001b[0;34m\"pdf\"\u001b[0m\u001b[0;34m)\u001b[0m\u001b[0;34m\u001b[0m\u001b[0m\n\u001b[0m",
      "\u001b[0;32m~/anaconda3_501/lib/python3.6/site-packages/pandas/core/generic.py\u001b[0m in \u001b[0;36m__getattr__\u001b[0;34m(self, name)\u001b[0m\n\u001b[1;32m   3079\u001b[0m             \u001b[0;32mif\u001b[0m \u001b[0mname\u001b[0m \u001b[0;32min\u001b[0m \u001b[0mself\u001b[0m\u001b[0;34m.\u001b[0m\u001b[0m_info_axis\u001b[0m\u001b[0;34m:\u001b[0m\u001b[0;34m\u001b[0m\u001b[0m\n\u001b[1;32m   3080\u001b[0m                 \u001b[0;32mreturn\u001b[0m \u001b[0mself\u001b[0m\u001b[0;34m[\u001b[0m\u001b[0mname\u001b[0m\u001b[0;34m]\u001b[0m\u001b[0;34m\u001b[0m\u001b[0m\n\u001b[0;32m-> 3081\u001b[0;31m             \u001b[0;32mreturn\u001b[0m \u001b[0mobject\u001b[0m\u001b[0;34m.\u001b[0m\u001b[0m__getattribute__\u001b[0m\u001b[0;34m(\u001b[0m\u001b[0mself\u001b[0m\u001b[0;34m,\u001b[0m \u001b[0mname\u001b[0m\u001b[0;34m)\u001b[0m\u001b[0;34m\u001b[0m\u001b[0m\n\u001b[0m\u001b[1;32m   3082\u001b[0m \u001b[0;34m\u001b[0m\u001b[0m\n\u001b[1;32m   3083\u001b[0m     \u001b[0;32mdef\u001b[0m \u001b[0m__setattr__\u001b[0m\u001b[0;34m(\u001b[0m\u001b[0mself\u001b[0m\u001b[0;34m,\u001b[0m \u001b[0mname\u001b[0m\u001b[0;34m,\u001b[0m \u001b[0mvalue\u001b[0m\u001b[0;34m)\u001b[0m\u001b[0;34m:\u001b[0m\u001b[0;34m\u001b[0m\u001b[0m\n",
      "\u001b[0;31mAttributeError\u001b[0m: 'DataFrame' object has no attribute 'to_render'"
     ]
    }
   ],
   "source": [
    "df.to_render(\"file.pdf\", format = \"pdf\")"
   ]
  },
  {
   "cell_type": "code",
   "execution_count": null,
   "metadata": {},
   "outputs": [],
   "source": [
    "df.to_html()"
   ]
  },
  {
   "cell_type": "code",
   "execution_count": 10,
   "metadata": {},
   "outputs": [
    {
     "name": "stdout",
     "output_type": "stream",
     "text": [
      "Collecting pdfkit\n",
      "  Downloading https://files.pythonhosted.org/packages/57/da/48fdd627794cde49f4ee7854d219f3a65714069b722b8d0e3599cd066185/pdfkit-0.6.1-py3-none-any.whl\n",
      "Installing collected packages: pdfkit\n",
      "Successfully installed pdfkit-0.6.1\n"
     ]
    }
   ],
   "source": [
    "!pip install pdfkit"
   ]
  },
  {
   "cell_type": "code",
   "execution_count": 11,
   "metadata": {},
   "outputs": [],
   "source": [
    "import pdfkit as pdf\n"
   ]
  },
  {
   "cell_type": "code",
   "execution_count": 12,
   "metadata": {},
   "outputs": [],
   "source": [
    "df.to_html(r'exported.html')\n"
   ]
  },
  {
   "cell_type": "code",
   "execution_count": 13,
   "metadata": {},
   "outputs": [],
   "source": [
    "nazivFajla='pdfPrintOut.pdf'\n"
   ]
  },
  {
   "cell_type": "code",
   "execution_count": 14,
   "metadata": {},
   "outputs": [
    {
     "ename": "OSError",
     "evalue": "No wkhtmltopdf executable found: \"b''\"\nIf this file exists please check that this process can read it. Otherwise please install wkhtmltopdf - https://github.com/JazzCore/python-pdfkit/wiki/Installing-wkhtmltopdf",
     "output_type": "error",
     "traceback": [
      "\u001b[0;31m---------------------------------------------------------------------------\u001b[0m",
      "\u001b[0;31mFileNotFoundError\u001b[0m                         Traceback (most recent call last)",
      "\u001b[0;32m~/anaconda3_501/lib/python3.6/site-packages/pdfkit/configuration.py\u001b[0m in \u001b[0;36m__init__\u001b[0;34m(self, wkhtmltopdf, meta_tag_prefix)\u001b[0m\n\u001b[1;32m     20\u001b[0m         \u001b[0;32mtry\u001b[0m\u001b[0;34m:\u001b[0m\u001b[0;34m\u001b[0m\u001b[0m\n\u001b[0;32m---> 21\u001b[0;31m             \u001b[0;32mwith\u001b[0m \u001b[0mopen\u001b[0m\u001b[0;34m(\u001b[0m\u001b[0mself\u001b[0m\u001b[0;34m.\u001b[0m\u001b[0mwkhtmltopdf\u001b[0m\u001b[0;34m)\u001b[0m \u001b[0;32mas\u001b[0m \u001b[0mf\u001b[0m\u001b[0;34m:\u001b[0m\u001b[0;34m\u001b[0m\u001b[0m\n\u001b[0m\u001b[1;32m     22\u001b[0m                 \u001b[0;32mpass\u001b[0m\u001b[0;34m\u001b[0m\u001b[0m\n",
      "\u001b[0;31mFileNotFoundError\u001b[0m: [Errno 2] No such file or directory: b''",
      "\nDuring handling of the above exception, another exception occurred:\n",
      "\u001b[0;31mOSError\u001b[0m                                   Traceback (most recent call last)",
      "\u001b[0;32m<ipython-input-14-a3762b7f0939>\u001b[0m in \u001b[0;36m<module>\u001b[0;34m()\u001b[0m\n\u001b[0;32m----> 1\u001b[0;31m \u001b[0mpdf\u001b[0m\u001b[0;34m.\u001b[0m\u001b[0mfrom_file\u001b[0m\u001b[0;34m(\u001b[0m\u001b[0;34m'exported.html'\u001b[0m\u001b[0;34m,\u001b[0m \u001b[0mnazivFajla\u001b[0m\u001b[0;34m)\u001b[0m\u001b[0;34m\u001b[0m\u001b[0m\n\u001b[0m",
      "\u001b[0;32m~/anaconda3_501/lib/python3.6/site-packages/pdfkit/api.py\u001b[0m in \u001b[0;36mfrom_file\u001b[0;34m(input, output_path, options, toc, cover, css, configuration, cover_first)\u001b[0m\n\u001b[1;32m     45\u001b[0m \u001b[0;34m\u001b[0m\u001b[0m\n\u001b[1;32m     46\u001b[0m     r = PDFKit(input, 'file', options=options, toc=toc, cover=cover, css=css,\n\u001b[0;32m---> 47\u001b[0;31m                configuration=configuration, cover_first=cover_first)\n\u001b[0m\u001b[1;32m     48\u001b[0m \u001b[0;34m\u001b[0m\u001b[0m\n\u001b[1;32m     49\u001b[0m     \u001b[0;32mreturn\u001b[0m \u001b[0mr\u001b[0m\u001b[0;34m.\u001b[0m\u001b[0mto_pdf\u001b[0m\u001b[0;34m(\u001b[0m\u001b[0moutput_path\u001b[0m\u001b[0;34m)\u001b[0m\u001b[0;34m\u001b[0m\u001b[0m\n",
      "\u001b[0;32m~/anaconda3_501/lib/python3.6/site-packages/pdfkit/pdfkit.py\u001b[0m in \u001b[0;36m__init__\u001b[0;34m(self, url_or_file, type_, options, toc, cover, css, configuration, cover_first)\u001b[0m\n\u001b[1;32m     40\u001b[0m \u001b[0;34m\u001b[0m\u001b[0m\n\u001b[1;32m     41\u001b[0m         \u001b[0mself\u001b[0m\u001b[0;34m.\u001b[0m\u001b[0msource\u001b[0m \u001b[0;34m=\u001b[0m \u001b[0mSource\u001b[0m\u001b[0;34m(\u001b[0m\u001b[0murl_or_file\u001b[0m\u001b[0;34m,\u001b[0m \u001b[0mtype_\u001b[0m\u001b[0;34m)\u001b[0m\u001b[0;34m\u001b[0m\u001b[0m\n\u001b[0;32m---> 42\u001b[0;31m         self.configuration = (Configuration() if configuration is None\n\u001b[0m\u001b[1;32m     43\u001b[0m                               else configuration)\n\u001b[1;32m     44\u001b[0m         \u001b[0;32mtry\u001b[0m\u001b[0;34m:\u001b[0m\u001b[0;34m\u001b[0m\u001b[0m\n",
      "\u001b[0;32m~/anaconda3_501/lib/python3.6/site-packages/pdfkit/configuration.py\u001b[0m in \u001b[0;36m__init__\u001b[0;34m(self, wkhtmltopdf, meta_tag_prefix)\u001b[0m\n\u001b[1;32m     25\u001b[0m                           \u001b[0;34m'If this file exists please check that this process can '\u001b[0m\u001b[0;34m\u001b[0m\u001b[0m\n\u001b[1;32m     26\u001b[0m                           \u001b[0;34m'read it. Otherwise please install wkhtmltopdf - '\u001b[0m\u001b[0;34m\u001b[0m\u001b[0m\n\u001b[0;32m---> 27\u001b[0;31m                           'https://github.com/JazzCore/python-pdfkit/wiki/Installing-wkhtmltopdf' % self.wkhtmltopdf)\n\u001b[0m",
      "\u001b[0;31mOSError\u001b[0m: No wkhtmltopdf executable found: \"b''\"\nIf this file exists please check that this process can read it. Otherwise please install wkhtmltopdf - https://github.com/JazzCore/python-pdfkit/wiki/Installing-wkhtmltopdf"
     ]
    }
   ],
   "source": [
    "pdf.from_file('exported.html', nazivFajla)"
   ]
  },
  {
   "cell_type": "code",
   "execution_count": 15,
   "metadata": {},
   "outputs": [
    {
     "name": "stdout",
     "output_type": "stream",
     "text": [
      "Collecting wkhtmltopdf\n",
      "  Downloading https://files.pythonhosted.org/packages/72/33/60a1f2d8a784376ce4e56599ec26997dcee21fcc6340179fc7fac94d4aa4/wkhtmltopdf-0.2.tar.gz\n",
      "Building wheels for collected packages: wkhtmltopdf\n",
      "  Running setup.py bdist_wheel for wkhtmltopdf ... \u001b[?25ldone\n",
      "\u001b[?25h  Stored in directory: /home/nbuser/.cache/pip/wheels/e4/87/c7/da5ceeaaf0a8c53c61f13796f3e99cdc92a047d013e948da8f\n",
      "Successfully built wkhtmltopdf\n",
      "Installing collected packages: wkhtmltopdf\n",
      "Successfully installed wkhtmltopdf-0.2\n"
     ]
    }
   ],
   "source": [
    "!pip install wkhtmltopdf"
   ]
  },
  {
   "cell_type": "code",
   "execution_count": 16,
   "metadata": {},
   "outputs": [],
   "source": [
    "# path_wkthmltopdf = r'C:\\Python27\\wkhtmltopdf\\bin\\wkhtmltopdf.exe'\n",
    "# config = pdfkit.configuration(wkhtmltopdf=path_wkthmltopdf)\n",
    "# pdfkit.from_url(\"http://google.com\", \"out.pdf\", configuration=config)"
   ]
  },
  {
   "cell_type": "code",
   "execution_count": 17,
   "metadata": {},
   "outputs": [],
   "source": [
    "from weasyprint import HTML\n",
    "HTML(string=df.to_html()).write_pdf(\"report.pdf\")"
   ]
  },
  {
   "cell_type": "code",
   "execution_count": 18,
   "metadata": {},
   "outputs": [],
   "source": [
    "# read this page: http://pbpython.com/pdf-reports.html"
   ]
  },
  {
   "cell_type": "code",
   "execution_count": null,
   "metadata": {},
   "outputs": [],
   "source": []
  }
 ],
 "metadata": {
  "kernelspec": {
   "display_name": "Python 3.6",
   "language": "python",
   "name": "python36"
  },
  "language_info": {
   "codemirror_mode": {
    "name": "ipython",
    "version": 3
   },
   "file_extension": ".py",
   "mimetype": "text/x-python",
   "name": "python",
   "nbconvert_exporter": "python",
   "pygments_lexer": "ipython3",
   "version": "3.6.3"
  }
 },
 "nbformat": 4,
 "nbformat_minor": 2
}
